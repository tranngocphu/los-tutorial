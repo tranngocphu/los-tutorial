{
 "cells": [
  {
   "cell_type": "code",
   "execution_count": 1,
   "metadata": {},
   "outputs": [],
   "source": [
    "import pandas as pd\n",
    "import random, itertools\n",
    "random.seed(0)\n",
    "from pygeodesy.sphericalNvector import LatLon\n",
    "from joblib import Parallel, delayed\n",
    "import matplotlib.pyplot as plt"
   ]
  },
  {
   "cell_type": "code",
   "execution_count": 2,
   "metadata": {},
   "outputs": [],
   "source": [
    "nm2m = 1852\n",
    "m2nm = 0.000539957\n",
    "ft2m = 0.3048\n",
    "m2ft = 3.28084\n",
    "\n",
    "def los(callsign0, callsign1, all_tracks, distance=False):\n",
    "    track0 = all_tracks[all_tracks.CallSign==callsign0]\n",
    "    track1 = all_tracks[all_tracks.CallSign==callsign1]\n",
    "    location0 = [LatLon(lat, lon) for lat, lon in zip(track0.Latitude, track0.Longitude)]\n",
    "    location1 = [LatLon(lat, lon) for lat, lon in zip(track1.Latitude, track1.Longitude)]\n",
    "    h_distances = [p0.distanceTo(p1)*m2nm for p0, p1 in zip(location0, location1)]\n",
    "    v_distances = [abs(h0-h1)*m2ft for h0, h1 in zip(track0.Height, track1.Height)]\n",
    "    check = [ h_dist < 5. and v_dist < 1000. for h_dist, v_dist in zip(h_distances, v_distances)]\n",
    "    if distance:\n",
    "        idx = h_distances.index(min(h_distances))\n",
    "        return min(h_distances), v_distances[idx]\n",
    "    return any(check)"
   ]
  },
  {
   "cell_type": "code",
   "execution_count": 3,
   "metadata": {},
   "outputs": [
    {
     "data": {
      "text/plain": [
       "20"
      ]
     },
     "execution_count": 3,
     "metadata": {},
     "output_type": "execute_result"
    }
   ],
   "source": [
    "tracks = [pd.read_csv(\"data/tmp/ac_{}.csv\".format(i)) for i in range(0, 20)]\n",
    "len(tracks)"
   ]
  },
  {
   "cell_type": "code",
   "execution_count": 4,
   "metadata": {},
   "outputs": [
    {
     "data": {
      "text/plain": [
       "('SIA865', 'SIA395')"
      ]
     },
     "execution_count": 4,
     "metadata": {},
     "output_type": "execute_result"
    }
   ],
   "source": [
    "callsigns = [\"SIA{}\".format(random.randint(1,999)) for i in range(0, 20)]\n",
    "ownship_cs = callsigns[0]\n",
    "intruder_cs = callsigns[1]\n",
    "ownship_cs, intruder_cs"
   ]
  },
  {
   "cell_type": "code",
   "execution_count": 5,
   "metadata": {},
   "outputs": [],
   "source": [
    "# update callsigns\n",
    "def update_callsign(track, callsign):\n",
    "    track.CallSign = callsign\n",
    "    return track"
   ]
  },
  {
   "cell_type": "code",
   "execution_count": 6,
   "metadata": {},
   "outputs": [],
   "source": [
    "tracks = [update_callsign(track, callsign) for track, callsign in zip(tracks, callsigns)]\n",
    "_ = [track.to_csv(\"data/tmp/{}.csv\".format(callsign), index=False) for track, callsign in zip(tracks, callsigns)]"
   ]
  },
  {
   "cell_type": "code",
   "execution_count": 7,
   "metadata": {},
   "outputs": [],
   "source": [
    "all_tracks = tracks[0].append(tracks[1:], ignore_index=True)\n",
    "all_tracks = all_tracks[['CallSign', 'ExerciseTime', 'Latitude', 'Longitude', 'Height']]\n",
    "all_tracks.sort_values(by=['ExerciseTime'], inplace=True)\n",
    "all_tracks.reset_index(drop=True, inplace=True)\n",
    "all_tracks.Latitude = all_tracks.Latitude.apply(lambda x: round(x,4))\n",
    "all_tracks.Longitude = all_tracks.Longitude.apply(lambda x: round(x,4))\n",
    "all_tracks.Height = all_tracks.Height.apply(lambda x: round(x,4))\n",
    "all_tracks.to_csv(\"data/tut/tutorial_full_tracks.csv\", index=False)"
   ]
  },
  {
   "cell_type": "code",
   "execution_count": 8,
   "metadata": {},
   "outputs": [],
   "source": [
    "# Generate simplified tracks\n",
    "t0, tmax = min(all_tracks.ExerciseTime), max(all_tracks.ExerciseTime)\n",
    "simple_track = all_tracks[(all_tracks.ExerciseTime==t0) | (all_tracks.ExerciseTime==tmax)].reset_index(drop=True)\n",
    "simple_track.to_csv(\"data/tut/tutorial_simple_tracks.csv\", index=False)"
   ]
  }
 ],
 "metadata": {
  "kernelspec": {
   "display_name": "Python 3",
   "language": "python",
   "name": "python3"
  },
  "language_info": {
   "codemirror_mode": {
    "name": "ipython",
    "version": 3
   },
   "file_extension": ".py",
   "mimetype": "text/x-python",
   "name": "python",
   "nbconvert_exporter": "python",
   "pygments_lexer": "ipython3",
   "version": "3.8.3"
  }
 },
 "nbformat": 4,
 "nbformat_minor": 4
}
