{
 "cells": [
  {
   "cell_type": "code",
   "execution_count": 1,
   "metadata": {},
   "outputs": [],
   "source": [
    "import sys, random\n",
    "sys.path.insert(0, \"/Users/Phu/DATA/projects/enact-generator\")\n",
    "import matplotlib.pyplot as plt\n",
    "import haversine\n",
    "from pygeodesy.sphericalNvector import LatLon\n",
    "import pandas as pd\n",
    "random.seed(0)"
   ]
  },
  {
   "cell_type": "code",
   "execution_count": 2,
   "metadata": {},
   "outputs": [],
   "source": [
    "from enactclass import *"
   ]
  },
  {
   "cell_type": "code",
   "execution_count": 3,
   "metadata": {},
   "outputs": [],
   "source": [
    "nm2m = 1852\n",
    "m2nm = 0.000539957\n",
    "ft2m = 0.3048\n",
    "m2ft = 3.28084\n",
    "REGION_LIMITS = [1., 100., 4., 104.]  # min_lat, min_lon, max_lat, max_lon\n",
    "lat0, lon0 = 2.5, 102.5"
   ]
  },
  {
   "cell_type": "code",
   "execution_count": 4,
   "metadata": {},
   "outputs": [],
   "source": [
    "# conflict inputs are in aviation units\n",
    "\n",
    "def generate_aircraft_pair(lat0, lon0, counter_level, v_distance, h_distance, hdg0, counter_angle, ownship_cs, intruder_cs):\n",
    "#     lat0 = 2.000  # lat of ownship at CPA\n",
    "#     lon0 = 101.000  # lon of ownship at CPA\n",
    "#     counter_level = 350  # hundred of ft\n",
    "#     v_distance = 0 # ft\n",
    "#     h_distance = 10 # nm\n",
    "#     hdg0 = 90  # degree\n",
    "#     counter_angle = 30  # degree\n",
    "    ownship_phase = \"CR\"\n",
    "    intruder_phase = \"CR\"\n",
    "    ownship_type = \"A320\"\n",
    "    intruder_type = \"A320\"\n",
    "    look_ahead = 5  # minutes\n",
    "#     ownship_cs  = \"AUT001\"\n",
    "#     intruder_cs = \"ATU002\"\n",
    "    bada_data_path = '/Users/Phu/DATA/projects/enact-generator/bada36_PTF.csv'\n",
    "\n",
    "    conflict_params = ConflictInput(\n",
    "        lat0, lon0, hdg0, \\\n",
    "        counter_level, counter_angle, h_distance, v_distance, \\\n",
    "        ownship_phase, intruder_phase, ownship_type, intruder_type, \\\n",
    "        ownship_cs, intruder_cs, look_ahead, bada_data_path\n",
    "    )\n",
    "    conflict = ConflictGenerator(conflict_params)\n",
    "    conflict.compute_track(save_as='df')\n",
    "    df = conflict.track\n",
    "    ownship_track = df[df.CallSign==ownship_cs]\n",
    "    intruder_track = df[df.CallSign==intruder_cs]\n",
    "    return ownship_track, intruder_track\n",
    "\n",
    "\n",
    "def los(track0, track1):\n",
    "    location0 = [LatLon(lat, lon) for lat, lon in zip(track0.Latitude, track0.Longitude)]\n",
    "    location1 = [LatLon(lat, lon) for lat, lon in zip(track1.Latitude, track1.Longitude)]\n",
    "    h_distances = [p0.distanceTo(p1)*m2nm for p0, p1 in zip(location0, location1)]\n",
    "    v_distances = [abs(h0-h1)*m2ft for h0, h1 in zip(track0.Height, track1.Height)]\n",
    "    check = [ h_dist < 5. and v_dist < 1000. for h_dist, v_dist in zip(h_distances, v_distances)]\n",
    "    return any(check)\n",
    "\n",
    "def create_point(limits=REGION_LIMITS):\n",
    "    lat = random.uniform(limits[0], limits[2])\n",
    "    lon = random.uniform(limits[1], limits[3])\n",
    "    return lat, lon\n",
    "\n",
    "def randomize_aircraft_pair(fl, region_limits, v_distance=0, h_distance=15):\n",
    "    lat0, lon0 = create_point(region_limits)\n",
    "    hdg0 = random.randint(0,360)\n",
    "    ownship_cs  = \"AUT000\"\n",
    "    intruder_cs = \"AUT001\"\n",
    "    track0, track1 = generate_aircraft_pair(lat0, lon0, counter_level, v_distance, h_distance, hdg0, counter_angle, ownship_cs, intruder_cs)\n",
    "    return track0, track1 \n",
    "\n",
    "def plot_tracks(tracks):\n",
    "    for track in tracks:\n",
    "        plt.plot(track.Longitude, track.Latitude)\n",
    "        plt.axis('equal')"
   ]
  },
  {
   "cell_type": "code",
   "execution_count": 5,
   "metadata": {},
   "outputs": [],
   "source": [
    "tracks = []  # tracks of all aircraft\n",
    "\n",
    "# Generate conflict pair\n",
    "counter_level = 350  # hundred of ft\n",
    "v_distance = 0 # ft\n",
    "h_distance = 4.1 # nm\n",
    "hdg0 = 90  # degree\n",
    "counter_angle = 30  # degree\n",
    "ownship_cs  = \"AUT000\"\n",
    "intruder_cs = \"AUT001\"\n",
    "ownship, intruder = generate_aircraft_pair(lat0, lon0, counter_level, v_distance, h_distance, hdg0, counter_angle, ownship_cs, intruder_cs)\n",
    "tracks += [ownship, intruder]"
   ]
  },
  {
   "cell_type": "code",
   "execution_count": 6,
   "metadata": {},
   "outputs": [],
   "source": [
    "# Estimate the region limits\n",
    "\n",
    "min_lat = min(min(tracks[0].Latitude), min(tracks[1].Latitude))\n",
    "min_lon = min(min(tracks[0].Longitude), min(tracks[1].Longitude))\n",
    "max_lat = max(max(tracks[0].Latitude), max(tracks[1].Latitude))\n",
    "max_lon = max(max(tracks[0].Longitude), max(tracks[1].Longitude))\n",
    "margin=0.25\n",
    "region_limits = [min_lat-margin, min_lon-margin, max_lat+margin, max_lon+margin]"
   ]
  },
  {
   "cell_type": "code",
   "execution_count": 7,
   "metadata": {},
   "outputs": [
    {
     "name": "stdout",
     "output_type": "stream",
     "text": [
      "0 Generated: 2\n",
      "1 Generated: 4\n",
      "2 Generated: 6\n",
      "3 Generated: 8\n",
      "4 Generated: 10\n",
      "5 Generated: 12\n",
      "6 Generated: 14\n",
      "7 Generated: 14\n",
      "8 Generated: 16\n",
      "9 Generated: 16\n",
      "10 Generated: 18\n",
      "11 Generated: 18\n",
      "12 Generated: 18\n"
     ]
    }
   ],
   "source": [
    "i = 0\n",
    "while True:\n",
    "    print(i, \"Generated:\", len(tracks))\n",
    "    h_distance = random.uniform(10, 20)\n",
    "    counter_level = random.choice([350, 310, 390])\n",
    "    ac0, ac1 = randomize_aircraft_pair(counter_level, region_limits, v_distance=0, h_distance=h_distance)\n",
    "    check0 = any([los(ac0, ac) for ac in tracks])\n",
    "    check1 = any([los(ac1, ac) for ac in tracks])\n",
    "    if (not check0) and (not check1):\n",
    "        tracks += [ac0, ac1]\n",
    "        if len(tracks) == 20:\n",
    "            break\n",
    "    i+=1"
   ]
  },
  {
   "cell_type": "code",
   "execution_count": 8,
   "metadata": {},
   "outputs": [
    {
     "data": {
      "image/png": "[encoded data removed]",
      "text/plain": [
       "<Figure size 432x288 with 1 Axes>"
      ]
     },
     "metadata": {
      "needs_background": "light"
     },
     "output_type": "display_data"
    }
   ],
   "source": [
    "plot_tracks(tracks)"
   ]
  },
  {
   "cell_type": "code",
   "execution_count": 9,
   "metadata": {},
   "outputs": [],
   "source": [
    "for i in range(len(tracks)):\n",
    "    df = tracks[i]\n",
    "    df.to_csv(\"data/tmp/ac_{}.csv\".format(i), index=False)"
   ]
  },
  {
   "cell_type": "code",
   "execution_count": null,
   "metadata": {},
   "outputs": [],
   "source": []
  }
 ],
 "metadata": {
  "kernelspec": {
   "display_name": "Python 3",
   "language": "python",
   "name": "python3"
  },
  "language_info": {
   "codemirror_mode": {
    "name": "ipython",
    "version": 3
   },
   "file_extension": ".py",
   "mimetype": "text/x-python",
   "name": "python",
   "nbconvert_exporter": "python",
   "pygments_lexer": "ipython3",
   "version": "3.8.3"
  }
 },
 "nbformat": 4,
 "nbformat_minor": 4
}
